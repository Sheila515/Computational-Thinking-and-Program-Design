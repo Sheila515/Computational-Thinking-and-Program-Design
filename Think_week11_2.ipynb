{
  "nbformat": 4,
  "nbformat_minor": 0,
  "metadata": {
    "colab": {
      "name": "Think_week11-2.ipynb",
      "provenance": [],
      "authorship_tag": "ABX9TyNy0O0fR3kHicYYQ1ieW7c5",
      "include_colab_link": true
    },
    "kernelspec": {
      "name": "python3",
      "display_name": "Python 3"
    }
  },
  "cells": [
    {
      "cell_type": "markdown",
      "metadata": {
        "id": "view-in-github",
        "colab_type": "text"
      },
      "source": [
        "<a href=\"https://colab.research.google.com/github/Sheila515/Computational-Thinking-and-Program-Design/blob/master/Think_week11_2.ipynb\" target=\"_parent\"><img src=\"https://colab.research.google.com/assets/colab-badge.svg\" alt=\"Open In Colab\"/></a>"
      ]
    },
    {
      "cell_type": "code",
      "metadata": {
        "id": "9aNC3ZMj6Uzs",
        "colab_type": "code",
        "colab": {}
      },
      "source": [
        ""
      ],
      "execution_count": 0,
      "outputs": []
    },
    {
      "cell_type": "markdown",
      "metadata": {
        "id": "z7WXpNPP6VQu",
        "colab_type": "text"
      },
      "source": [
        "「哈囉。我是Ｚｙｘｏ６４。我是一個聊天機器人。\n",
        "我喜歡動物，也喜歡食物。\n",
        "你叫什麼名字？：＊＊Ｊｏｅ＊＊。\n",
        "你好＊Ｊｏｅ＊，很高興認識你。\n"
      ]
    },
    {
      "cell_type": "code",
      "metadata": {
        "id": "13U5YsmU7NFm",
        "colab_type": "code",
        "colab": {
          "base_uri": "https://localhost:8080/",
          "height": 90
        },
        "outputId": "7314b9ed-93e1-4da0-cf61-dfe1872f4205"
      },
      "source": [
        "# 聊天機器人自我介紹\n",
        "print(\"哈囉，我是zyxo64，我是一個聊天機器人\")\n",
        "print(\"我喜歡動物，也喜歡聊食物\")\n",
        "\n",
        "# 取得使用者名字\n",
        "name = input(\"你叫甚麼名字？：\")\n",
        "# 打招呼\n",
        "print(\"你好\", name, \"很高興認識你\")"
      ],
      "execution_count": 3,
      "outputs": [
        {
          "output_type": "stream",
          "text": [
            "哈囉，我是zyxo64，我是一個聊天機器人\n",
            "我喜歡動物，也喜歡聊食物\n",
            "你叫甚麼名字？：34\n",
            "你好 34 很高興認識你\n"
          ],
          "name": "stdout"
        }
      ]
    }
  ]
}