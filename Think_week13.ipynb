{
  "nbformat": 4,
  "nbformat_minor": 0,
  "metadata": {
    "colab": {
      "name": "Think_week13.ipynb",
      "provenance": [],
      "authorship_tag": "ABX9TyPCRRyLeDiQr9vDliTDUaX+",
      "include_colab_link": true
    },
    "kernelspec": {
      "name": "python3",
      "display_name": "Python 3"
    }
  },
  "cells": [
    {
      "cell_type": "markdown",
      "metadata": {
        "id": "view-in-github",
        "colab_type": "text"
      },
      "source": [
        "<a href=\"https://colab.research.google.com/github/Sheila515/Computational-Thinking-and-Program-Design/blob/master/Think_week13.ipynb\" target=\"_parent\"><img src=\"https://colab.research.google.com/assets/colab-badge.svg\" alt=\"Open In Colab\"/></a>"
      ]
    },
    {
      "cell_type": "code",
      "metadata": {
        "id": "1hpOU0RooQho",
        "colab_type": "code",
        "colab": {
          "base_uri": "https://localhost:8080/",
          "height": 54
        },
        "outputId": "626e6a6f-e019-407a-af2a-618188e72b40"
      },
      "source": [
        "## Input \n",
        "score = int(input (\"你考幾分?\"))\n",
        "\n",
        "## Process\n",
        "if (score >= 60 ):\n",
        "   alarm = \"OFF\"\n",
        "   print(\"及格\")\n",
        "else:\n",
        "  alarm = \"ON\"\n",
        "  print(\"不及格\")"
      ],
      "execution_count": 5,
      "outputs": [
        {
          "output_type": "stream",
          "text": [
            "你考幾分?50\n",
            "不及格\n"
          ],
          "name": "stdout"
        }
      ]
    },
    {
      "cell_type": "code",
      "metadata": {
        "id": "AKx4aD7d23ix",
        "colab_type": "code",
        "colab": {
          "base_uri": "https://localhost:8080/",
          "height": 54
        },
        "outputId": "58cf8df2-c6a3-4a55-8e75-72cee4c119f5"
      },
      "source": [
        "# Input Data\n",
        "year = int(input('請輸入西元年份?'))\n",
        "\n",
        "# Process - if elif else = >Process + Output\n",
        "\n",
        "if((year % 400) == 0):\n",
        "  print(year, \"是閏年\")\n",
        "elif((year % 100) == 0):\n",
        "  print(year, \"不是閏年\")\n",
        "elif((year % 4) == 0):\n",
        "  print(year, \"是閏年\")\n",
        "else:\n",
        "  print(year, \"不是閏年\")  "
      ],
      "execution_count": 9,
      "outputs": [
        {
          "output_type": "stream",
          "text": [
            "請輸入西元年份?2050\n",
            "2050 不是閏年\n"
          ],
          "name": "stdout"
        }
      ]
    },
    {
      "cell_type": "code",
      "metadata": {
        "id": "M8unEU-H5BCo",
        "colab_type": "code",
        "colab": {
          "base_uri": "https://localhost:8080/",
          "height": 54
        },
        "outputId": "96be925d-02c2-43d2-8649-d4f0868d90c4"
      },
      "source": [
        "# 成績判斷\n",
        "## >= 80 非常好 + 80 >= 60 不錯 +< 60 加油\n",
        "\n",
        "### 單向選擇 if\n",
        "\n",
        "### 雙向選擇 if else\n",
        "\n",
        "### 多三項選擇 if elif else\n",
        "\n",
        "# Input Data\n",
        "\n",
        "score = input(\"請輸入成績? \") # 文字資料\n",
        "score = int(score) # 成績轉成數字資料\n",
        "\n",
        "## Process - One Way\n",
        "\n",
        "if score >= 80:\n",
        "  print(\"Well done!\")\n",
        "if 80 > score >= 60:\n",
        "  print(\"Good, Pass\")\n",
        "if score < 60:\n",
        "  print(\"Work Harrder!!\")"
      ],
      "execution_count": 12,
      "outputs": [
        {
          "output_type": "stream",
          "text": [
            "請輸入成績? 90\n",
            "Well done!\n"
          ],
          "name": "stdout"
        }
      ]
    },
    {
      "cell_type": "code",
      "metadata": {
        "colab_type": "code",
        "outputId": "99660ba5-9b11-41fa-e9e7-4c2dca1ef698",
        "id": "s8K8M1iq6v1C",
        "colab": {
          "base_uri": "https://localhost:8080/",
          "height": 72
        }
      },
      "source": [
        "# 成績判斷\n",
        "## >= 80 非常好 + 80 >= 60 不錯 +< 60 加油\n",
        "\n",
        "### 單向選擇 if\n",
        "\n",
        "### 雙向選擇 if else\n",
        "\n",
        "### 多三項選擇 if elif else\n",
        "\n",
        "# Input Data\n",
        "\n",
        "score = input(\"請輸入成績? \") # 文字資料\n",
        "score = int(score) # 成績轉成數字資料\n",
        "\n",
        "## Process - Two Way 巣狀\n",
        "\n",
        "if score >= 80:\n",
        "  print(\"Well Done!\")\n",
        "else:\n",
        "  print(\"Oiling\")\n",
        "  if score >=60 :\n",
        "    print(\"Goodm Pass\")\n",
        "  else:\n",
        "    print(\"Work Harder\")"
      ],
      "execution_count": 17,
      "outputs": [
        {
          "output_type": "stream",
          "text": [
            "請輸入成績? 40\n",
            "Oiling\n",
            "Work Harder\n"
          ],
          "name": "stdout"
        }
      ]
    }
  ]
}