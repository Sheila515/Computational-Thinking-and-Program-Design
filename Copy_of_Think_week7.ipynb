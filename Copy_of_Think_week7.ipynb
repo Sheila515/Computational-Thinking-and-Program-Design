{
  "nbformat": 4,
  "nbformat_minor": 0,
  "metadata": {
    "colab": {
      "name": "Copy of Think_week7.ipynb",
      "provenance": [],
      "authorship_tag": "ABX9TyOiYCgfwdDHZo+DFN+isCXh",
      "include_colab_link": true
    },
    "kernelspec": {
      "name": "python3",
      "display_name": "Python 3"
    }
  },
  "cells": [
    {
      "cell_type": "markdown",
      "metadata": {
        "id": "view-in-github",
        "colab_type": "text"
      },
      "source": [
        "<a href=\"https://colab.research.google.com/github/Sheila515/Computational-Thinking-and-Program-Design/blob/master/Copy_of_Think_week7.ipynb\" target=\"_parent\"><img src=\"https://colab.research.google.com/assets/colab-badge.svg\" alt=\"Open In Colab\"/></a>"
      ]
    },
    {
      "cell_type": "code",
      "metadata": {
        "id": "7JQxVPALohc0",
        "colab_type": "code",
        "outputId": "68ffbcf6-7679-49ce-edcc-74bc1d2d9643",
        "colab": {
          "base_uri": "https://localhost:8080/",
          "height": 181
        }
      },
      "source": [
        "drama_title = \"lteawon keullasseu\" # 韓劇名稱\n",
        "release_year = \"2020\" # 放映日期\n",
        "single_episode_min = \"70\" # 單集片長\n",
        "drama_rating = 8.3 # 評分\n",
        "director = \"Kim Sung Yoon\" # 導演\n",
        "stars_1 = \"Park Sae Jun\" # 主要演員\n",
        "star_2 = \"Kim Da-mi\"\n",
        "star_3 = \"Kwon A-yoon\"\n",
        "star_4 = \"Yoo Jae-myung\"\n",
        "like = 7 # 你喜不喜歡\n",
        "print(drama_title)\n",
        "print(release_year)\n",
        "print(single_episode_min)\n",
        "print(drama_rating)\n",
        "print(director)\n",
        "print(stars_1)\n",
        "print(star_2)\n",
        "print(star_3)\n",
        "print(star_4)"
      ],
      "execution_count": 0,
      "outputs": [
        {
          "output_type": "stream",
          "text": [
            "lteawon keullasseu\n",
            "2020\n",
            "70\n",
            "8.3\n",
            "Kim Sung Yoon\n",
            "Park Sae Jun\n",
            "Kim Da-mi\n",
            "Kwon A-yoon\n",
            "Yoo Jae-myung\n"
          ],
          "name": "stdout"
        }
      ]
    },
    {
      "cell_type": "code",
      "metadata": {
        "id": "vemmsO5QtOEw",
        "colab_type": "code",
        "colab": {}
      },
      "source": [
        ""
      ],
      "execution_count": 0,
      "outputs": []
    }
  ]
}