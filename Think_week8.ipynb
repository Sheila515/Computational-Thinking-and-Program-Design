{
  "nbformat": 4,
  "nbformat_minor": 0,
  "metadata": {
    "colab": {
      "name": "Think_week8.ipynb",
      "provenance": [],
      "authorship_tag": "ABX9TyO15WL54HJxGsSElNmG2QkL",
      "include_colab_link": true
    },
    "kernelspec": {
      "name": "python3",
      "display_name": "Python 3"
    }
  },
  "cells": [
    {
      "cell_type": "markdown",
      "metadata": {
        "id": "view-in-github",
        "colab_type": "text"
      },
      "source": [
        "<a href=\"https://colab.research.google.com/github/Sheila515/Computational-Thinking-and-Program-Design/blob/master/Think_week8.ipynb\" target=\"_parent\"><img src=\"https://colab.research.google.com/assets/colab-badge.svg\" alt=\"Open In Colab\"/></a>"
      ]
    },
    {
      "cell_type": "code",
      "metadata": {
        "id": "Zt-ebFCyqu-Z",
        "colab_type": "code",
        "colab": {
          "base_uri": "https://localhost:8080/",
          "height": 145
        },
        "outputId": "bd5805ce-e793-434f-c531-24b9ca3bd612"
      },
      "source": [
        "hours = input(\"Enter movie time hours\")\n",
        "minutes = input(\"Enter movie time minutes\")\n",
        "\n",
        "hours = int(hours)\n",
        "minutes = int(minutes)\n",
        "\n",
        "length = hours * 60 + minutes # 數學運算\n",
        "print(hours, \"Hours\", minutes, \"Minutes\", \"movie lenght is\", length, \"minutes\")\n",
        "\n",
        "# 133分鐘轉成2小時13分鐘\n",
        "# 133分鐘 2小時\n",
        "hours1 = length / 60 # hours\n",
        "print(hours1)\n",
        "hours = int(hours1)\n",
        "print(hours)\n",
        "\n",
        "# 133分鐘 13分鐘\n",
        "minutes1 = (hours1 - hours)* 60\n",
        "minutes2 = round(minutes) # 四捨五入\n",
        "\n",
        "print(minutes)\n",
        "print(length, \"Minutes equals\", hours, \"Hours\", minutes2, \"Minutes\")"
      ],
      "execution_count": 6,
      "outputs": [
        {
          "output_type": "stream",
          "text": [
            "Enter movie time hours2\n",
            "Enter movie time minutes13\n",
            "2 Hours 13 Minutes movie lenght is 133 minutes\n",
            "2.216666666666667\n",
            "2\n",
            "13\n",
            "133 Minutes equals 2 Hours 13 Minutes\n"
          ],
          "name": "stdout"
        }
      ]
    },
    {
      "cell_type": "code",
      "metadata": {
        "id": "b-4zWljuwpWp",
        "colab_type": "code",
        "colab": {
          "base_uri": "https://localhost:8080/",
          "height": 126
        },
        "outputId": "619763fe-283d-429a-dc69-20d3e19a1b25"
      },
      "source": [
        "hours = input(\"Enter movie time hours\")\n",
        "minutes = input(\"Enter movie time minutes\")\n",
        "\n",
        "hours = int(hours)\n",
        "minutes = int(minutes)\n",
        "\n",
        "length = hours * 60 + minutes # 數學運算\n",
        "print(hours, \"Hours\", minutes, \"Minutes\", \"movie lenght is\", length, \"minutes\")\n",
        "\n",
        "# 133分鐘轉成2小時13分鐘\n",
        "# 133分鐘 2小時\n",
        "hours1 = length // 60 # hours\n",
        "print(hours1)\n",
        "\n",
        "# 133分鐘 13分鐘\n",
        "minutes1 = length % 60\n",
        "print(minutes1)\n",
        "\n",
        "print(length, \"Minutes equals\", hours1, \"Hours\", minutes1, \"Minutes\")"
      ],
      "execution_count": 11,
      "outputs": [
        {
          "output_type": "stream",
          "text": [
            "Enter movie time hours2\n",
            "Enter movie time minutes13\n",
            "2 Hours 13 Minutes movie lenght is 133 minutes\n",
            "2\n",
            "13\n",
            "133 Minutes equals 2 Hours 13 Minutes\n"
          ],
          "name": "stdout"
        }
      ]
    }
  ]
}