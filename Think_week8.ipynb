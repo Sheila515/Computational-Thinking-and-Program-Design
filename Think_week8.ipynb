{
  "nbformat": 4,
  "nbformat_minor": 0,
  "metadata": {
    "colab": {
      "name": "Think_week8.ipynb",
      "provenance": [],
      "authorship_tag": "ABX9TyNAoQ3r4QoiowOVtiUcSu8J",
      "include_colab_link": true
    },
    "kernelspec": {
      "name": "python3",
      "display_name": "Python 3"
    }
  },
  "cells": [
    {
      "cell_type": "markdown",
      "metadata": {
        "id": "view-in-github",
        "colab_type": "text"
      },
      "source": [
        "<a href=\"https://colab.research.google.com/github/Sheila515/Computational-Thinking-and-Program-Design/blob/master/Think_week8.ipynb\" target=\"_parent\"><img src=\"https://colab.research.google.com/assets/colab-badge.svg\" alt=\"Open In Colab\"/></a>"
      ]
    },
    {
      "cell_type": "code",
      "metadata": {
        "id": "GBAQPP8Fwld4",
        "colab_type": "code",
        "colab": {}
      },
      "source": [
        "全班40人分組，每五位同學一組，老師規定依座號順序分組，也就是1號到5號一組，6號到10號一組，請寫一個程式允許使用者輸入座號，輸出分組的組別。\n"
      ],
      "execution_count": 0,
      "outputs": []
    },
    {
      "cell_type": "code",
      "metadata": {
        "id": "5ubgwpUIijAe",
        "colab_type": "code",
        "outputId": "739a72b4-5bd8-4993-8e53-e479951b49f1",
        "colab": {
          "base_uri": "https://localhost:8080/",
          "height": 54
        }
      },
      "source": [
        "座號 = int(input('請輸入座號? ')) #文字轉數字\n",
        "組別 = (座號-1)//5 + 1\n",
        "print('組別為', 組別)"
      ],
      "execution_count": 0,
      "outputs": [
        {
          "output_type": "stream",
          "text": [
            "請輸入座號? 23\n",
            "組別為 5\n"
          ],
          "name": "stdout"
        }
      ]
    },
    {
      "cell_type": "markdown",
      "metadata": {
        "id": "sN926QvsGUXO",
        "colab_type": "text"
      },
      "source": [
        "### LBD 1: 請設計一個程式計算圓面積與圓周長，依輸入的半徑計算圓面積與圓周長。"
      ]
    },
    {
      "cell_type": "code",
      "metadata": {
        "id": "-RESH8jexIrc",
        "colab_type": "code",
        "colab": {
          "base_uri": "https://localhost:8080/",
          "height": 54
        },
        "outputId": "987970c8-e196-43fd-a3d2-f2b0fb75e1d8"
      },
      "source": [
        "半徑 = int(input('半徑?')) #文字轉數字\n",
        "圓面積 = (半徑*半徑*3.14)\n",
        "print( '面積為', 圓面積)"
      ],
      "execution_count": 3,
      "outputs": [
        {
          "output_type": "stream",
          "text": [
            "半徑?5\n",
            "面積為 78.5\n"
          ],
          "name": "stdout"
        }
      ]
    },
    {
      "cell_type": "code",
      "metadata": {
        "id": "b8YaREzVxTR4",
        "colab_type": "code",
        "colab": {
          "base_uri": "https://localhost:8080/",
          "height": 54
        },
        "outputId": "1dbe7e2a-9850-4e1a-dfb8-2d9d039eeb35"
      },
      "source": [
        "半徑 = int(input('半徑?')) #文字轉數字\n",
        "圓周長 = (半徑*2*3.14)\n",
        "print( '周長為', 圓周長)"
      ],
      "execution_count": 5,
      "outputs": [
        {
          "output_type": "stream",
          "text": [
            "半徑?5\n",
            "周長為 31.400000000000002\n"
          ],
          "name": "stdout"
        }
      ]
    },
    {
      "cell_type": "code",
      "metadata": {
        "id": "MmP8XX1Ixfgg",
        "colab_type": "code",
        "colab": {}
      },
      "source": [
        "LBD 2: 請設計一個程式將輸入的攝氏溫度轉成華氏溫度，轉換公式如下:華氏溫度= 攝氏溫度*9/5+32"
      ],
      "execution_count": 0,
      "outputs": []
    },
    {
      "cell_type": "code",
      "metadata": {
        "id": "sCS-ZrWoxjlo",
        "colab_type": "code",
        "colab": {
          "base_uri": "https://localhost:8080/",
          "height": 54
        },
        "outputId": "359775e8-2a69-4304-9456-d7f533878726"
      },
      "source": [
        "攝氏溫度 = int(input('攝氏溫度?')) #文字轉數字\n",
        "華氏溫度 = (攝氏溫度*9)/5 + 32\n",
        "print('華氏溫度為', 華氏溫度)"
      ],
      "execution_count": 7,
      "outputs": [
        {
          "output_type": "stream",
          "text": [
            "攝氏溫度?20\n",
            "華氏溫度為 68.0\n"
          ],
          "name": "stdout"
        }
      ]
    },
    {
      "cell_type": "markdown",
      "metadata": {
        "id": "c14IvE9CGUXY",
        "colab_type": "text"
      },
      "source": [
        "### LBD 3: 假設上衣300元、褲子350元與背心400元，使用者可以自行輸入三種服裝的數量，請設計一個程式計算訂購服裝的總金額。"
      ]
    },
    {
      "cell_type": "code",
      "metadata": {
        "id": "fwyndenqqr__",
        "colab_type": "code",
        "outputId": "e42a6115-c480-4d0a-896e-12f493b005ab",
        "colab": {
          "base_uri": "https://localhost:8080/",
          "height": 90
        }
      },
      "source": [
        "A = int(input(\"請輸入上衣數量?\"))\n",
        "B = int(input(\"請輸入褲子數量?\"))\n",
        "C = int(input(\"請輸入背心數量?\"))\n",
        "a = 300 * A\n",
        "b = 350 * B\n",
        "c = 400 * C\n",
        "總金額 = a + b + c\n",
        "print('總金額為', 總金額)"
      ],
      "execution_count": 0,
      "outputs": [
        {
          "output_type": "stream",
          "text": [
            "請輸入上衣數量?5\n",
            "請輸入褲子數量?5\n",
            "請輸入背心數量?5\n",
            "總金額為 5250\n"
          ],
          "name": "stdout"
        }
      ]
    },
    {
      "cell_type": "code",
      "metadata": {
        "id": "H1ZbV6dvxyFg",
        "colab_type": "code",
        "colab": {}
      },
      "source": [
        "LBD 4: 為了刺激銷售量，賣場通常買一打會比買一罐便宜，假設一罐賣20元，一打賣200元，請設計一個程式計算買幾罐需花多少錢，若不足一打就個別買。"
      ],
      "execution_count": 0,
      "outputs": []
    },
    {
      "cell_type": "code",
      "metadata": {
        "id": "pQnWFQCex08I",
        "colab_type": "code",
        "colab": {
          "base_uri": "https://localhost:8080/",
          "height": 54
        },
        "outputId": "63d132e1-bcda-445e-a8a0-fc088fae4e64"
      },
      "source": [
        "數量 = int(input('請輸入數量'))\n",
        "一打 =(數量//12)\n",
        "不足一打 =(數量%12)\n",
        "總金額 =(一打*200+不足一打*20)\n",
        "print('總金額為', 總金額)"
      ],
      "execution_count": 9,
      "outputs": [
        {
          "output_type": "stream",
          "text": [
            "請輸入數量5\n",
            "總金額為 100\n"
          ],
          "name": "stdout"
        }
      ]
    },
    {
      "cell_type": "code",
      "metadata": {
        "id": "tpL7xAI7x_X8",
        "colab_type": "code",
        "colab": {}
      },
      "source": [
        "LBD 5: 請輸入第一次期中考、第二次期中考與期末考成績，成績皆為整數，請計算分數的加總與平均。"
      ],
      "execution_count": 0,
      "outputs": []
    },
    {
      "cell_type": "code",
      "metadata": {
        "id": "ALAAEgDvyAjg",
        "colab_type": "code",
        "colab": {
          "base_uri": "https://localhost:8080/",
          "height": 108
        },
        "outputId": "744b3b85-2526-4ebb-fd61-5066d51e9937"
      },
      "source": [
        "第一次期中考成績 = int(input(\"請輸入第一次期中考成績\"))\n",
        "第二次期中考成績 = int(input(\"請輸入第二次期中考成績\"))\n",
        "期末考成績 = int(input(\"請輸入期末考成績\"))\n",
        "加總 =(第一次期中考成績+第二次期中考成績+期末考成績)\n",
        "平均 =(第一次期中考成績 + 第二次期中考成績 + 期末考成績)//3\n",
        "print('分數加總為', 加總)\n",
        "print('分數平均為', 平均)"
      ],
      "execution_count": 10,
      "outputs": [
        {
          "output_type": "stream",
          "text": [
            "請輸入第一次期中考成績70\n",
            "請輸入第二次期中考成績75\n",
            "請輸入期末考成績75\n",
            "分數加總為 220\n",
            "分數平均為 73\n"
          ],
          "name": "stdout"
        }
      ]
    }
  ]
}