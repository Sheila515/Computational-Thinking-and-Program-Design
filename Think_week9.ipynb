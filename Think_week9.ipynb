{
  "nbformat": 4,
  "nbformat_minor": 0,
  "metadata": {
    "colab": {
      "name": "Think_week9.ipynb",
      "provenance": [],
      "authorship_tag": "ABX9TyPWDdT15BqBk5GhlrhSSi6u",
      "include_colab_link": true
    },
    "kernelspec": {
      "name": "python3",
      "display_name": "Python 3"
    }
  },
  "cells": [
    {
      "cell_type": "markdown",
      "metadata": {
        "id": "view-in-github",
        "colab_type": "text"
      },
      "source": [
        "<a href=\"https://colab.research.google.com/github/Sheila515/Computational-Thinking-and-Program-Design/blob/master/Think_week9.ipynb\" target=\"_parent\"><img src=\"https://colab.research.google.com/assets/colab-badge.svg\" alt=\"Open In Colab\"/></a>"
      ]
    },
    {
      "cell_type": "markdown",
      "metadata": {
        "id": "71YUgj73r3-0",
        "colab_type": "text"
      },
      "source": [
        "假設上衣300元、褲子350元與背心400元，使用者可以自行輸入三種服裝的數量，請設計一個程式計算訂購服裝的總金額"
      ]
    },
    {
      "cell_type": "code",
      "metadata": {
        "id": "a_ISaD2dsD6Y",
        "colab_type": "code",
        "colab": {
          "base_uri": "https://localhost:8080/",
          "height": 90
        },
        "outputId": "3ca046c7-f311-46fd-c951-9e81619d2a3f"
      },
      "source": [
        "A = int(input(\"請輸入上衣數量?\"))\n",
        "B = int(input(\"請輸入褲子數量?\"))\n",
        "C = int(input(\"請輸入背心數量?\"))\n",
        "a = 300 * A\n",
        "b = 350 * B\n",
        "c = 400 * C\n",
        "總金額 = a + b + c\n",
        "print('總金額為', 總金額)"
      ],
      "execution_count": 5,
      "outputs": [
        {
          "output_type": "stream",
          "text": [
            "請輸入上衣數量?5\n",
            "請輸入褲子數量?5\n",
            "請輸入背心數量?5\n",
            "總金額為 5250\n"
          ],
          "name": "stdout"
        }
      ]
    },
    {
      "cell_type": "markdown",
      "metadata": {
        "id": "xduQThivsKh4",
        "colab_type": "text"
      },
      "source": [
        "假設飲料一罐賣20元，一打賣200元，請設計一個程式計算買幾罐需花多少錢，若不足一打就個別買。\n"
      ]
    },
    {
      "cell_type": "code",
      "metadata": {
        "id": "2dnR_QHOsYNl",
        "colab_type": "code",
        "colab": {
          "base_uri": "https://localhost:8080/",
          "height": 54
        },
        "outputId": "01814e83-f2e2-412b-aaa0-9f5babcba210"
      },
      "source": [
        "數量 =int(input('請輸入數量'))\n",
        "一打 =(數量//12)\n",
        "不足一打 =(數量%12)\n",
        "總金額 =(一打*200+不足一打*20)\n",
        "print('總金額為', 總金額)"
      ],
      "execution_count": 7,
      "outputs": [
        {
          "output_type": "stream",
          "text": [
            "請輸入數量5\n",
            "總金額為 100\n"
          ],
          "name": "stdout"
        }
      ]
    },
    {
      "cell_type": "markdown",
      "metadata": {
        "id": "cAN2DULmsgER",
        "colab_type": "text"
      },
      "source": [
        "輸入第一次期中考、第二次期中考與期末考成績，成績皆為整數，請計算分數的加總與平均。"
      ]
    },
    {
      "cell_type": "code",
      "metadata": {
        "id": "Am70audfsmGg",
        "colab_type": "code",
        "colab": {
          "base_uri": "https://localhost:8080/",
          "height": 108
        },
        "outputId": "e29e50f8-4bc2-4c75-9043-3ff609b839ce"
      },
      "source": [
        "第一次期中考成績 = int(input(\"請輸入第一次期中考成績\"))\n",
        "第二次期中考成績 = int(input(\"請輸入第二次期中考成績\"))\n",
        "期末考成績 = int(input(\"請輸入期末考成績\"))\n",
        "加總 =(第一次期中考成績+第二次期中考成績+期末考成績)\n",
        "平均 =(第一次期中考成績 + 第二次期中考成績 + 期末考成績)//3\n",
        "print('分數加總為', 加總)\n",
        "print('分數平均為', 平均)"
      ],
      "execution_count": 9,
      "outputs": [
        {
          "output_type": "stream",
          "text": [
            "請輸入第一次期中考成績70\n",
            "請輸入第二次期中考成績75\n",
            "請輸入期末考成績70\n",
            "分數加總為 215\n",
            "分數平均為 71\n"
          ],
          "name": "stdout"
        }
      ]
    }
  ]
}