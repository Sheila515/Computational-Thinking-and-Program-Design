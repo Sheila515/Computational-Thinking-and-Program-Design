{
  "nbformat": 4,
  "nbformat_minor": 0,
  "metadata": {
    "colab": {
      "name": "Think_week14.ipynb",
      "provenance": [],
      "authorship_tag": "ABX9TyOi0u27PJvq+ytzS6D/byiT",
      "include_colab_link": true
    },
    "kernelspec": {
      "name": "python3",
      "display_name": "Python 3"
    }
  },
  "cells": [
    {
      "cell_type": "markdown",
      "metadata": {
        "id": "view-in-github",
        "colab_type": "text"
      },
      "source": [
        "<a href=\"https://colab.research.google.com/github/Sheila515/Computational-Thinking-and-Program-Design/blob/master/Think_week14.ipynb\" target=\"_parent\"><img src=\"https://colab.research.google.com/assets/colab-badge.svg\" alt=\"Open In Colab\"/></a>"
      ]
    },
    {
      "cell_type": "code",
      "metadata": {
        "id": "0A0ic14w0BE3",
        "colab_type": "code",
        "colab": {
          "base_uri": "https://localhost:8080/",
          "height": 90
        },
        "outputId": "1b7ffc69-9ef2-4a40-f85a-f957b10c6890"
      },
      "source": [
        "# BMI\n",
        "## 輸入體重和身高資訊 input\n",
        "weight = float(input(\"Enter your weight(KG)\")) # 轉數字\n",
        "height = float(input(\"Enter your height(M)\"))\n",
        "\n",
        "## 計算BMI指數 process\n",
        "bmi = weight / (height * height)\n",
        "\n",
        "## 印出BMI output\n",
        "print(\"BMI指數為\", bmi)\n",
        "\n",
        "## 根BMI指數 印出肥胖指數程度分類 process = output = if else else\n",
        "if bmi < 18:\n",
        "  print(\"Underweight\")\n",
        "elif bmi < 24:\n",
        "  print(\"Normal\")\n",
        "elif bmi < 27:\n",
        "  print(\"Overweight\")\n",
        "else:\n",
        "  print(\"Obesity\")"
      ],
      "execution_count": 1,
      "outputs": [
        {
          "output_type": "stream",
          "text": [
            "Enter your weight(KG)50\n",
            "Enter your height(M)1.56\n",
            "BMI指數為 20.5456936226167\n",
            "Normal\n"
          ],
          "name": "stdout"
        }
      ]
    },
    {
      "cell_type": "code",
      "metadata": {
        "id": "N0gY7n-s2P9U",
        "colab_type": "code",
        "colab": {
          "base_uri": "https://localhost:8080/",
          "height": 54
        },
        "outputId": "f325cee4-dbca-4b0a-b7c6-1f56534d08ed"
      },
      "source": [
        "# 猜數字遊戲\n",
        "\n",
        "# input\n",
        "# 我心中有一數\n",
        "# 對方猜一個數\n",
        "\n",
        "secret_number = 83\n",
        "guess_number = int(input(\"Guess between 1 to 100\"))\n",
        "\n",
        "# Process + Output\n",
        "# 和我心中的數一不一樣\n",
        "# 不一樣時 告訴對方猜太高或猜太低\n",
        "\n",
        "if guess_number == secret_number:\n",
        "  print(\"猜對了!\")\n",
        "elif guess_number < secret_number:\n",
        "  print(\"再高一點\")\n",
        "elif guess_number > secret_number:\n",
        "  print(\"再低一點\")"
      ],
      "execution_count": 2,
      "outputs": [
        {
          "output_type": "stream",
          "text": [
            "Guess between 1 to 10055\n",
            "再高一點\n"
          ],
          "name": "stdout"
        }
      ]
    },
    {
      "cell_type": "code",
      "metadata": {
        "colab_type": "code",
        "outputId": "ab21fb2f-f997-4d22-ceef-832e51ccaa51",
        "id": "PG9jNJ7P-WDb",
        "colab": {
          "base_uri": "https://localhost:8080/",
          "height": 108
        }
      },
      "source": [
        "# Input\n",
        "# 我心中有一數\n",
        "# 讓對方猜一個數\n",
        "\n",
        "secret_number = 83\n",
        "guess_number = int(input(\"Guess between 1 to 100\")) # Start\n",
        "\n",
        "# Process + Output\n",
        "# 判斷和我心中的數一不一樣 if else\n",
        "# 不一樣時 告訴對方猜太高或猜太低\n",
        "\n",
        "while (guess_number != secret_number): # Stop\n",
        "  print(\"Your guess is wrong\")\n",
        "  if guess_number > secret_number:\n",
        "      print(\"Your guess is too heigh. Guess lower!\")\n",
        "  else:\n",
        "    print(\"Your guess is too low. Guess higher!\")\n",
        "    # Step \n",
        "    guess_number = int(input(\"Guess between 1 and 100?\")) # Step\n",
        "print(\"恭喜\", \"Secret number is\", secret_number)"
      ],
      "execution_count": 7,
      "outputs": [
        {
          "output_type": "stream",
          "text": [
            "Guess between 1 to 10055\n",
            "Your guess is wrong\n",
            "Your guess is too low. Guess higher!\n",
            "Guess between 1 and 100?83\n",
            "恭喜 Secret number is 83\n"
          ],
          "name": "stdout"
        }
      ]
    },
    {
      "cell_type": "code",
      "metadata": {
        "id": "NboIGUxtAZCd",
        "colab_type": "code",
        "colab": {
          "base_uri": "https://localhost:8080/",
          "height": 199
        },
        "outputId": "ac616fb7-f8f3-4253-c53e-fd472ddd27b8"
      },
      "source": [
        "# 一般型迴圈\n",
        "## 方法(一)\n",
        "n = 0 #初始條件\n",
        "while n < 10: #判斷條件\n",
        "    print(\"hello\")\n",
        "    n = n+1 "
      ],
      "execution_count": 15,
      "outputs": [
        {
          "output_type": "stream",
          "text": [
            "hello\n",
            "hello\n",
            "hello\n",
            "hello\n",
            "hello\n",
            "hello\n",
            "hello\n",
            "hello\n",
            "hello\n",
            "hello\n"
          ],
          "name": "stdout"
        }
      ]
    },
    {
      "cell_type": "code",
      "metadata": {
        "id": "hsOkO3OLB6Ee",
        "colab_type": "code",
        "colab": {
          "base_uri": "https://localhost:8080/",
          "height": 199
        },
        "outputId": "cb12b126-f4e3-4f93-8bac-3d0484657dbe"
      },
      "source": [
        "## 方法(二)\n",
        "n = 0 #初始條件\n",
        "while n < 10: #判斷條件\n",
        "    n = n + 1 #更新條件\n",
        "    print(\"這是第\", n, \"次的hello\")"
      ],
      "execution_count": 16,
      "outputs": [
        {
          "output_type": "stream",
          "text": [
            "這是第 1 次的hello\n",
            "這是第 2 次的hello\n",
            "這是第 3 次的hello\n",
            "這是第 4 次的hello\n",
            "這是第 5 次的hello\n",
            "這是第 6 次的hello\n",
            "這是第 7 次的hello\n",
            "這是第 8 次的hello\n",
            "這是第 9 次的hello\n",
            "這是第 10 次的hello\n"
          ],
          "name": "stdout"
        }
      ]
    },
    {
      "cell_type": "code",
      "metadata": {
        "id": "sw9pDhoKCfBx",
        "colab_type": "code",
        "colab": {
          "base_uri": "https://localhost:8080/",
          "height": 199
        },
        "outputId": "d65ccbac-bf3b-4695-f071-f3f83c84487c"
      },
      "source": [
        "## 方法(三)\n",
        "n = 0 #初始條件\n",
        "left = 0 #初始條件\n",
        "while n < 10: #判斷條件\n",
        "    n = n + 1 #更新條件\n",
        "    left = 10 - n\n",
        "    print(\"這是第\", n, \"次的hello\", \"還有\", left, \"次機會\")"
      ],
      "execution_count": 17,
      "outputs": [
        {
          "output_type": "stream",
          "text": [
            "這是第 1 次的hello 還有 9 次機會\n",
            "這是第 2 次的hello 還有 8 次機會\n",
            "這是第 3 次的hello 還有 7 次機會\n",
            "這是第 4 次的hello 還有 6 次機會\n",
            "這是第 5 次的hello 還有 5 次機會\n",
            "這是第 6 次的hello 還有 4 次機會\n",
            "這是第 7 次的hello 還有 3 次機會\n",
            "這是第 8 次的hello 還有 2 次機會\n",
            "這是第 9 次的hello 還有 1 次機會\n",
            "這是第 10 次的hello 還有 0 次機會\n"
          ],
          "name": "stdout"
        }
      ]
    }
  ]
}