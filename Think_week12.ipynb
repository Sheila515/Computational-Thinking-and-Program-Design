{
  "nbformat": 4,
  "nbformat_minor": 0,
  "metadata": {
    "colab": {
      "name": "Think-week12.ipynb",
      "provenance": [],
      "authorship_tag": "ABX9TyPsIRj78h1uJz2/D2h0BaQ5",
      "include_colab_link": true
    },
    "kernelspec": {
      "name": "python3",
      "display_name": "Python 3"
    }
  },
  "cells": [
    {
      "cell_type": "markdown",
      "metadata": {
        "id": "view-in-github",
        "colab_type": "text"
      },
      "source": [
        "<a href=\"https://colab.research.google.com/github/Sheila515/Computational-Thinking-and-Program-Design/blob/master/Think_week12.ipynb\" target=\"_parent\"><img src=\"https://colab.research.google.com/assets/colab-badge.svg\" alt=\"Open In Colab\"/></a>"
      ]
    },
    {
      "cell_type": "code",
      "metadata": {
        "id": "WymAMBLxhBMs",
        "colab_type": "code",
        "colab": {
          "base_uri": "https://localhost:8080/",
          "height": 85
        },
        "outputId": "2cdf9e45-1994-4f67-c8e0-bfd9ad94303e"
      },
      "source": [
        "# Input\n",
        "noodle = input(\"有麵嗎？ (YES/NO)\")\n",
        "sauce = input(\"有醬料嗎？ (YES/NO)\") \n",
        "\n",
        "# Process\n",
        "if noodle == \"YES\":\n",
        "  if sauce == \"YES\":\n",
        "    print(\"可做義大利麵!\")\n",
        "# Output\n",
        "print(\"Well done!\")"
      ],
      "execution_count": 3,
      "outputs": [
        {
          "output_type": "stream",
          "text": [
            "有麵嗎？ (YES/NO)YES\n",
            "有醬料嗎？ (YES/NO)YES\n",
            "可做義大利麵!\n",
            "Well done!\n"
          ],
          "name": "stdout"
        }
      ]
    },
    {
      "cell_type": "code",
      "metadata": {
        "id": "Ysvxb9iTjnI7",
        "colab_type": "code",
        "colab": {
          "base_uri": "https://localhost:8080/",
          "height": 85
        },
        "outputId": "2005fc5c-ea3e-4163-a3b9-6e8848c0d955"
      },
      "source": [
        "# Input\n",
        "noodle = input(\"有麵嗎？ (YES/NO)\")\n",
        "sauce = input(\"有醬料嗎？ (YES/NO)\") \n",
        "\n",
        "# Process\n",
        "if noodle == \"YES\" and sauce == \"YES\":\n",
        "  print(\"今晚吃義大利麵\")\n",
        "  \n",
        "# Output\n",
        "print(\"Well done!\")"
      ],
      "execution_count": 5,
      "outputs": [
        {
          "output_type": "stream",
          "text": [
            "有麵嗎？ (YES/NO)YES\n",
            "有醬料嗎？ (YES/NO)YES\n",
            "今晚吃義大利麵\n",
            "Well done!\n"
          ],
          "name": "stdout"
        }
      ]
    }
  ]
}